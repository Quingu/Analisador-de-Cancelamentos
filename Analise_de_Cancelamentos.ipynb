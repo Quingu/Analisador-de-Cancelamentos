{
  "nbformat": 4,
  "nbformat_minor": 0,
  "metadata": {
    "colab": {
      "provenance": [],
      "authorship_tag": "ABX9TyNtLWyopEE4vepGFgOe1i/s",
      "include_colab_link": true
    },
    "kernelspec": {
      "name": "python3",
      "display_name": "Python 3"
    },
    "language_info": {
      "name": "python"
    }
  },
  "cells": [
    {
      "cell_type": "markdown",
      "metadata": {
        "id": "view-in-github",
        "colab_type": "text"
      },
      "source": [
        "<a href=\"https://colab.research.google.com/github/Quingu/Analisador-de-Cancelamentos/blob/main/Analise_de_Cancelamentos.ipynb\" target=\"_parent\"><img src=\"https://colab.research.google.com/assets/colab-badge.svg\" alt=\"Open In Colab\"/></a>"
      ]
    },
    {
      "cell_type": "markdown",
      "source": [
        "# Python Insights - Analisando Dados com Python\n",
        "\n",
        "### Case - Cancelamento de Clientes\n",
        "\n",
        "Você foi contratado por uma empresa com mais de 800 mil clientes para um projeto de Dados. Recentemente a empresa percebeu que da sua base total de clientes, a maioria são clientes inativos, ou seja, que já cancelaram o serviço.\n",
        "\n",
        "Precisando melhorar seus resultados ela quer conseguir entender os principais motivos desses cancelamentos e quais as ações mais eficientes para reduzir esse número.\n",
        "\n",
        "Base de dados e arquivos: https://drive.google.com/drive/folders/1uDesZePdkhiraJmiyeZ-w5tfc8XsNYFZ?usp=drive_link"
      ],
      "metadata": {
        "id": "c4ck636IJ5x8"
      }
    },
    {
      "cell_type": "code",
      "source": [
        "# Passo a passo\n",
        "# Passo 1: Importar base de dados\n",
        "# Passo 2: Visualizar base de dados\n",
        "# Passo 3: Corrigir cagadas da base de dados\n",
        "# Passo 4: Análise dos cancelamentos\n",
        "# Passo 5: Análise da causa dos cancelamentos (como as colunas impactam no cancelamento?)\n",
        "\n",
        "# !pip install pandas numpy openpyxl nbformat ipykernel plotly\n",
        "# Passo a passo do projeto\n",
        "# Passo 1: Importar a base de dados\n",
        "import pandas as pd\n",
        "\n",
        "tabela = pd.read_csv(\"cancelamentos_sample.csv\")\n",
        "\n",
        "# Passo 2: Visualizar a base de dados\n",
        "tabela = tabela.drop(columns=\"CustomerID\")\n",
        "display(tabela)\n",
        "# colunas inúteis - informações que não te ajudam, te atrapalham\n"
      ],
      "metadata": {
        "id": "w0RvJqg3K4gi"
      },
      "execution_count": null,
      "outputs": []
    },
    {
      "cell_type": "code",
      "source": [
        "# Passo 3: Corrigir as cagadas da base de dados\n",
        "display(tabela.info())\n",
        "# valores vazios - excluir as linhas que têm valores vazios\n",
        "tabela = tabela.dropna()\n",
        "\n",
        "display(tabela.info())"
      ],
      "metadata": {
        "id": "FPjEcgmKKIYF"
      },
      "execution_count": null,
      "outputs": []
    },
    {
      "cell_type": "code",
      "source": [
        "# Passo 4: Análise inicial dos cancelamentos\n",
        "\n",
        "# quantas pessoas cancelaram e quantas não cancelaram\n",
        "display(tabela[\"cancelou\"].value_counts())\n",
        "\n",
        "# em percentual\n",
        "display(tabela[\"cancelou\"].value_counts(normalize=True))\n",
        "# display(tabela[\"cancelou\"].value_counts(normalize=True).map(\"{:.1%}\".format))"
      ],
      "metadata": {
        "id": "HOjlU7YUKJ1S"
      },
      "execution_count": null,
      "outputs": []
    },
    {
      "cell_type": "code",
      "source": [
        "# Passo 5: Análise das causas dos cancelamentos (como as colunas da base impactam no cancelamento)\n",
        "# gráficos/dashboards\n",
        "# !pip install plotly\n",
        "import plotly.express as px\n",
        "\n",
        "# criar o grafico\n",
        "\n",
        "for coluna in tabela.columns:\n",
        "    grafico = px.histogram(tabela, x=coluna, color=\"cancelou\")\n",
        "    # exibir o grafico\n",
        "    grafico.show()"
      ],
      "metadata": {
        "id": "hTTMMcfgKQWI"
      },
      "execution_count": null,
      "outputs": []
    },
    {
      "cell_type": "code",
      "source": [
        "# clientes do contrato mensal TODOS cancelam\n",
        "    # ofercer desconto nos planos anuais e trimestrais\n",
        "# clientes que ligam mais do que 4 vezes para o call center, cancelam\n",
        "    # criar um processo para resolver o problema do cliente em no máximo 3 ligações\n",
        "# clientes que atrasaram mais de 20 dias, cancelaram\n",
        "    # política de resolver atrasos em até 10 dias (equipe financeira)\n",
        "\n",
        "tabela = tabela[tabela[\"duracao_contrato\"]!=\"Monthly\"]\n",
        "tabela = tabela[tabela[\"ligacoes_callcenter\"]<=4]\n",
        "tabela = tabela[tabela[\"dias_atraso\"]<=20]\n",
        "\n",
        "display(tabela[\"cancelou\"].value_counts())\n",
        "# em percentual\n",
        "display(tabela[\"cancelou\"].value_counts(normalize=True))\n"
      ],
      "metadata": {
        "id": "c02O-oNPKZvf"
      },
      "execution_count": null,
      "outputs": []
    },
    {
      "cell_type": "code",
      "source": [
        "# !pip install nbformat --upgrade"
      ],
      "metadata": {
        "id": "OAvYrZigKgW6"
      },
      "execution_count": null,
      "outputs": []
    }
  ]
}